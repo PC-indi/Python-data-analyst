{
 "cells": [
  {
   "cell_type": "code",
   "execution_count": 34,
   "id": "3c38e4d2-5fbe-40dd-b08b-585255d945e6",
   "metadata": {},
   "outputs": [],
   "source": [
    "import pandas as pd\n",
    "# krok 0\n",
    "## plik w  katalogu użytkownika\n",
    "df = pd.read_csv('survey_results_public.csv')\n",
    "# subset=df.iloc[1:4, :]\n",
    "# print (subset)"
   ]
  },
  {
   "cell_type": "code",
   "execution_count": 35,
   "id": "8dddf4ca-f149-45fd-a95a-bd474fbde174",
   "metadata": {},
   "outputs": [
    {
     "name": "stdout",
     "output_type": "stream",
     "text": [
      "Ankietę wypełniło: 89184 respondentów.\n"
     ]
    }
   ],
   "source": [
    "# 1. Ilu respondentów wypełniło ankietę?\n",
    "num_respondents = df['ResponseId'].nunique()\n",
    "print(f'Ankietę wypełniło: {num_respondents} respondentów.')"
   ]
  },
  {
   "cell_type": "code",
   "execution_count": 68,
   "id": "77d49bdf-f32e-45d0-ad5f-cb6a5fe7fc3f",
   "metadata": {},
   "outputs": [
    {
     "name": "stdout",
     "output_type": "stream",
     "text": [
      "Liczba respondentów, którzy odpowiedzieli na wszystkie pytania: 0.\n"
     ]
    }
   ],
   "source": [
    "#2. Ilu respondentów odpowiedziało na wszystkie pytania?\n",
    "num_full_responses = df.dropna().shape[0]\n",
    "print(f'Liczba respondentów, którzy odpowiedzieli na wszystkie pytania: {num_full_responses}.')\n",
    "\n",
    "## to chyba nie tak to powinno wyglądać, czy każda kolumna odpowiada pytaniu?\n",
    "# zamień średniki i w w walucie jest chyba tabulator USD  dolar \n",
    "# w sumie może i ma to sens: zaznaczenie jednej odpowidzi w dowolnej kolumnie ustawia wartości puste w kolejnych ale nie NA\n",
    "\n",
    "#QID319,AITool,Which parts of your development workflow are you currently using AI tools for and \n",
    "#which are you interested in using AI tools for over the next year?  \n",
    "#Please select all that apply.,FALSE,Matrix,Likert"
   ]
  },
  {
   "cell_type": "code",
   "execution_count": 51,
   "id": "d4d5397c-f496-4d63-b220-db37051ee81a",
   "metadata": {},
   "outputs": [
    {
     "name": "stdout",
     "output_type": "stream",
     "text": [
      "Miary tendencji centralnej dla doświadczenia: \n",
      "count    43579.00\n",
      "mean        11.41\n",
      "std          9.05\n",
      "min          0.00\n",
      "25%          5.00\n",
      "50%          9.00\n",
      "75%         16.00\n",
      "max         50.00\n",
      "Name: WorkExp, dtype: float64\n"
     ]
    }
   ],
   "source": [
    "#3. Jakie są wartości miar tendencji centralnej dla doświadczenia (WorkExp) respondentów?\n",
    "central_tendency_workexp = df['WorkExp'].describe().round(2)\n",
    "print(f'Miary tendencji centralnej dla doświadczenia: \\n{central_tendency_workexp}')\n",
    "\n",
    "#Za pomocą metody describe możesz wyświetlić wskaźniki statystyczne. \n",
    "# Metoda ta jest bardzo przydatna do szybkiego przeglądu kluczowych wskaźników statystycznych wybranego zbioru danych,\n",
    "# dzięki którym można zobaczyć rozkład danych oraz panujące w nich trendy.\n",
    "#czemu nie działa :.2f ? bo tak ! ->.describe().round(2)\n"
   ]
  },
  {
   "cell_type": "code",
   "execution_count": 38,
   "id": "f3d66cc4-3410-45e8-bc7d-fef75714c2d9",
   "metadata": {},
   "outputs": [
    {
     "name": "stdout",
     "output_type": "stream",
     "text": [
      "Zdalnie pracuje: 30566 respondentów.\n"
     ]
    }
   ],
   "source": [
    "#4. Ilu respondentów pracuje zdalnie?\n",
    "num_remote_workers = df[df['RemoteWork'] == 'Remote']['ResponseId'].nunique()\n",
    "print(f'Zdalnie pracuje: {num_remote_workers} respondentów.')\n"
   ]
  },
  {
   "cell_type": "code",
   "execution_count": 42,
   "id": "fb7ad0db-9b3c-4d03-ab1d-b79717ffd7c5",
   "metadata": {},
   "outputs": [
    {
     "name": "stdout",
     "output_type": "stream",
     "text": [
      "Procent respondentów programujących w Pythonie: 48.39%\n"
     ]
    }
   ],
   "source": [
    "#5. Jaki procent respondentów programuje w języku Python?\n",
    "python_programmers = df['LanguageHaveWorkedWith'].str.contains('Python', na=False).sum()\n",
    "percent_python_programmers = (python_programmers / num_respondents) * 100\n",
    "print(f'Procent respondentów programujących w Pythonie: {percent_python_programmers:.2f}%')\n",
    "# :.2f zaokrąglenie do 2 miejsc \n",
    "# >>> print(\"{:.2f}\".format(39.54484700000000))"
   ]
  },
  {
   "cell_type": "code",
   "execution_count": 43,
   "id": "146607e8-c463-489c-b764-2f4ac71696ec",
   "metadata": {},
   "outputs": [
    {
     "name": "stdout",
     "output_type": "stream",
     "text": [
      "Za pomocą kursów online nauczyło się programować: 43201 respondentów.\n"
     ]
    }
   ],
   "source": [
    "#6. Ilu respondentów nauczyło się programować poprzez kursy online?\n",
    "## How do you learn to code? Select all that apply.\n",
    "online_courses_learners = df[df['LearnCode'].str.contains('Online', na=False)]['ResponseId'].nunique()\n",
    "print(f'Za pomocą kursów online nauczyło się programować: {online_courses_learners} respondentów.')\n",
    "\n"
   ]
  },
  {
   "cell_type": "code",
   "execution_count": 56,
   "id": "f965e6e0-1503-462c-aa0b-b5d7af41f5b6",
   "metadata": {},
   "outputs": [
    {
     "name": "stdout",
     "output_type": "stream",
     "text": [
      "Średnia i mediana wynagrodzenia w każdym kraju: \n",
      "                                  Country      mean   median\n",
      "0                             Afghanistan    665.00     48.0\n",
      "1                                 Albania  28008.60  11844.0\n",
      "2                                 Algeria   8336.33   6586.0\n",
      "3                                 Andorra  32127.00  32127.0\n",
      "4                                  Angola    662.00    662.0\n",
      "..                                    ...       ...      ...\n",
      "168  Venezuela, Bolivarian Republic of...  24973.53  12000.0\n",
      "169                              Viet Nam  20191.87  13401.0\n",
      "170                                 Yemen   8373.00   9000.0\n",
      "171                                Zambia  13051.00   9687.0\n",
      "172                              Zimbabwe   5600.00   6000.0\n",
      "\n",
      "[173 rows x 3 columns]\n"
     ]
    }
   ],
   "source": [
    "#7. Jaka jest średnia i mediana wynagrodzenia (ConvertedCompYearly) w każdym kraju wśród respondentów, \n",
    "#którzy programują w Pythonie i są pogrupowani według kraju?\n",
    "python_respondents = df[df['LanguageHaveWorkedWith'].str.contains('Python', na=False)]\n",
    "avg_median_salary_by_country = python_respondents.groupby('Country')['ConvertedCompYearly'].agg(['mean', 'median']).reset_index()\n",
    "## zaokrąglij\n",
    "avg_median_salary_by_country =avg_median_salary_by_country.round(2)\n",
    "print(f'Średnia i mediana wynagrodzenia w każdym kraju: \\n{avg_median_salary_by_country}')\n",
    "#czemu nie działa :.2f ? ponownie  bo tak !\n",
    "#Wyrażenie .2f nie działa bezpośrednio na dataframe, działa natomiast w kontekście formatowania pojedynczych liczb w funkcji print.\n"
   ]
  },
  {
   "cell_type": "code",
   "execution_count": 45,
   "id": "ceeb5583-1eb7-432e-982d-263ac397e416",
   "metadata": {},
   "outputs": [
    {
     "name": "stdout",
     "output_type": "stream",
     "text": [
      "Poziom wykształcenia 5 respondentów z najwyższym wynagrodzeniem: \n",
      "                                              EdLevel  ConvertedCompYearly\n",
      "53268  Professional degree (JD, MD, Ph.D, Ed.D, etc.)           74351432.0\n",
      "77848  Professional degree (JD, MD, Ph.D, Ed.D, etc.)           73607918.0\n",
      "66223    Bachelor’s degree (B.A., B.S., B.Eng., etc.)           72714292.0\n",
      "28121                       Primary/elementary school           57513831.0\n",
      "19679  Professional degree (JD, MD, Ph.D, Ed.D, etc.)           36573181.0\n"
     ]
    }
   ],
   "source": [
    "#8. Jaki poziom wykształcenia ma 5 respondentów z najwyższym wynagrodzeniem?\n",
    "top_5_salaries = df.nlargest(5, 'ConvertedCompYearly')[['EdLevel', 'ConvertedCompYearly']]\n",
    "print(f'Poziom wykształcenia 5 respondentów z najwyższym wynagrodzeniem: \\n{top_5_salaries}')\n",
    "# ''' \"\"\" nie działa\n",
    "# ctrl+/ - komentuje i zdejmuje komentarz\n",
    "# \n",
    "# pandas.DataFrame.nlargest\n",
    "# DataFrame.nlargest(n, columns, keep='first')[source]\n",
    "# Return the first n rows ordered by columns in descending order.\n",
    "\n",
    "# Return the first n rows with the largest values in columns, in descending order. \n",
    "# The columns that are not specified are returned as well, but not used for ordering.\n",
    "# This method is equivalent to df.sort_values(columns, ascending=False).head(n), but more performant.\n",
    "\n",
    "# Parameters\n",
    "# :\n",
    "# n\n",
    "# int\n",
    "# Number of rows to return.\n",
    "\n",
    "# columns\n",
    "# label or list of labels\n",
    "# Column label(s) to order by.\n",
    "\n",
    "# keep\n",
    "# {‘first’, ‘last’, ‘all’}, default ‘first’\n",
    "# Where there are duplicate values:\n",
    "\n",
    "# first : prioritize the first occurrence(s)\n",
    "# last : prioritize the last occurrence(s)\n",
    "# all : keep all the ties of the smallest item even if it means selecting more than n items.\n",
    "\n",
    "# Returns\n",
    "# :\n",
    "# DataFrame\n",
    "# The first n rows ordered by the given columns in descending order.\n",
    "# \n"
   ]
  },
  {
   "cell_type": "code",
   "execution_count": 65,
   "id": "14eacb11-6faf-43c0-aa7d-4e4409cfbb18",
   "metadata": {},
   "outputs": [
    {
     "name": "stdout",
     "output_type": "stream",
     "text": [
      "Procent respondentów programujących w Pythonie w każdej grupie wiekowej: \n",
      "                  Age  PercentPythonProgrammers\n",
      "0     18-24 years old                     61.39\n",
      "1     25-34 years old                     47.58\n",
      "2     35-44 years old                     41.44\n",
      "3     45-54 years old                     38.46\n",
      "4     55-64 years old                     36.50\n",
      "5   65 years or older                     30.91\n",
      "6   Prefer not to say                     41.20\n",
      "7  Under 18 years old                     68.63\n"
     ]
    }
   ],
   "source": [
    "########### bonus\n",
    "#1. Jaki procent respondentów programuje w Pythonie, w każdej grupie wiekowej?\n",
    "age_groups = df['Age'].unique()\n",
    "python_by_age = df[df['LanguageHaveWorkedWith'].str.contains('Python', na=False)].groupby('Age')['ResponseId'].nunique()\n",
    "#print (f'{python_by_age}')\n",
    "\n",
    "total_by_age = df.groupby('Age')['ResponseId'].nunique()\n",
    "#print (f'{total_by_age}')\n",
    "\n",
    "percent_python_by_age = (python_by_age / total_by_age * 100).reset_index()\n",
    "percent_python_by_age.columns = ['Age', 'PercentPythonProgrammers']\n",
    "#zaokrąglij\n",
    "percent_python_by_age=percent_python_by_age.round(2)\n",
    "print(f'Procent respondentów programujących w Pythonie w każdej grupie wiekowej: \\n{percent_python_by_age}')\n"
   ]
  },
  {
   "cell_type": "code",
   "execution_count": 67,
   "id": "9bb3c5d4-c4c8-4098-9d31-cf25cc7f3eb6",
   "metadata": {},
   "outputs": [
    {
     "name": "stdout",
     "output_type": "stream",
     "text": [
      "Branże, w których są najczęściej zatrudnieni wysokozarobkujący pracownicy zdalni: \n",
      "                                             Industry  Count\n",
      "0   Information Services, IT, Software Development...   1800\n",
      "1                                  Financial Services    535\n",
      "2                                               Other    441\n",
      "3                                          Healthcare    365\n",
      "4                        Retail and Consumer Services    243\n",
      "5      Manufacturing, Transportation, or Supply Chain    168\n",
      "6                                Advertising Services    121\n",
      "7                                           Insurance     96\n",
      "8                                    Higher Education     65\n",
      "9                                      Legal Services     21\n",
      "10                                          Oil & Gas     17\n",
      "11                                          Wholesale     11\n"
     ]
    }
   ],
   "source": [
    "#2. Biorąc pod uwagę respondentów, którzy znajdują się w 75. percentylu według wynagrodzenia średniego i pracują zdalnie,\n",
    "#odpowiedz, w jakich branżach są oni najczęściej zatrudnieni?\n",
    "salary_75_percentile = df['ConvertedCompYearly'].quantile(0.75)\n",
    "high_earning_remote_workers = df[(df['ConvertedCompYearly'] >= salary_75_percentile) & (df['RemoteWork'] == 'Remote')]\n",
    "industries_high_earners = high_earning_remote_workers['Industry'].value_counts().reset_index()\n",
    "industries_high_earners.columns = ['Industry', 'Count']\n",
    "print(f'Branże, w których są najczęściej zatrudnieni wysokozarobkujący pracownicy zdalni: \\n{industries_high_earners}')\n"
   ]
  },
  {
   "cell_type": "code",
   "execution_count": null,
   "id": "f0ab5383-848b-4c74-bf7c-05a4416f2bb2",
   "metadata": {},
   "outputs": [],
   "source": []
  }
 ],
 "metadata": {
  "kernelspec": {
   "display_name": "Python 3 (ipykernel)",
   "language": "python",
   "name": "python3"
  },
  "language_info": {
   "codemirror_mode": {
    "name": "ipython",
    "version": 3
   },
   "file_extension": ".py",
   "mimetype": "text/x-python",
   "name": "python",
   "nbconvert_exporter": "python",
   "pygments_lexer": "ipython3",
   "version": "3.11.7"
  }
 },
 "nbformat": 4,
 "nbformat_minor": 5
}
